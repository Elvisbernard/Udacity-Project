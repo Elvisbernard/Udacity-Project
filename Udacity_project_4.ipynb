{
 "cells": [
  {
   "cell_type": "markdown",
   "metadata": {},
   "source": [
    "# AIMS\n",
    "\n"
   ]
  },
  {
   "cell_type": "markdown",
   "metadata": {},
   "source": [
    "The purpose of this notebook to have a better understanding of how the recent concern in the world in general and data analytic have shaped the community these last few years.<br> Along this notebook I will try to see  how:\n",
    "  * the #METOO has change the number of woman in the field and bring up a more balanced workforce\n",
    "  * the emergence of MOOC and other online learnings have changed the qualification hold by people working in the field\n",
    "  * which language are becoming more popular with a special emphasis on R vs Python\n",
    "\n",
    "To answer these questions, the stakeover flow surveys from 2017 until 2019 will be analysed and compared \n",
    "    "
   ]
  },
  {
   "cell_type": "markdown",
   "metadata": {},
   "source": [
    "<a id='ToC' >\n",
    "    </a>\n",
    "    \n",
    "   * [Definition of the function](#fun)\n",
    "   * [Data Preparation](#data)\n",
    "   * [Analysis](#ana)\n",
    "     \n",
    "    "
   ]
  },
  {
   "cell_type": "code",
   "execution_count": 58,
   "metadata": {},
   "outputs": [],
   "source": [
    "import pandas as pd\n",
    "import numpy as np \n",
    "import matplotlib.pyplot as plt"
   ]
  },
  {
   "cell_type": "markdown",
   "metadata": {},
   "source": [
    "**Loading the data in**"
   ]
  },
  {
   "cell_type": "code",
   "execution_count": 59,
   "metadata": {},
   "outputs": [],
   "source": [
    "df_2017 = pd.read_csv('survey_results_public2017.csv')\n",
    "df_2018 = pd.read_csv('survey_results_public2018.csv', dtype=str)\n",
    "df_2019 = pd.read_csv('survey_results_public2019.csv')"
   ]
  },
  {
   "cell_type": "markdown",
   "metadata": {},
   "source": [
    "<a id='fun' >\n",
    "    </a>\n",
    "    \n",
    "\n",
    "**Functions used in the notebook**"
   ]
  },
  {
   "cell_type": "code",
   "execution_count": 60,
   "metadata": {},
   "outputs": [],
   "source": [
    "def create_dic(df, field):\n",
    "    \n",
    "    \"\"\"\n",
    "    The answer of the questions allowing multiple answers are recorded as a string with each answer separated by a ';'. \n",
    "    This functions breakdown the different answer into their component and count how many time each single answer has been given\n",
    "    \n",
    "    input : df: name of the dataframe\n",
    "            field: name of the variable to extract the anwser\n",
    "            \n",
    "    output: dict_:  a dictionnary with the different value for the answer as a key and the percentage of people chosing that\n",
    "                    that answer as the value associated with the key\n",
    "    \n",
    "    \n",
    "    \"\"\"\n",
    "    dict_ = {}\n",
    "    for value in df[field].fillna('none').tolist():\n",
    "        #take this opportunity to standarise the answer between the different year\n",
    "        value = value.replace('HTML;CSS', 'HTML/CSS')\n",
    "        value = value.replace('Bash/Shell/PowerShell', 'Bash/Shell')\n",
    "        \n",
    "        listy = value.split(';')\n",
    "        \n",
    "        #creating an entry for each element or incrementing the count by 1\n",
    "        for elem in listy:\n",
    "            elem = elem.strip()\n",
    "            if elem in dict_.keys():\n",
    "                dict_[elem] += 1\n",
    "            else:\n",
    "                dict_[elem] = 1\n",
    "                \n",
    "    # calculating the percentage            \n",
    "    for k in dict_.keys():\n",
    "        dict_[k] = dict_[k]/df.shape[0]\n",
    "    return dict_\n",
    "        "
   ]
  },
  {
   "cell_type": "code",
   "execution_count": 61,
   "metadata": {},
   "outputs": [],
   "source": [
    "def simplify_gender(df):\n",
    "    \"\"\"\n",
    "    in the different survey, the answer for the response gender have been recorded differently, this funciton standarize \n",
    "    the answer and create (in place) a new variable 'Gender_S'\n",
    "    \n",
    "    input: df: a dataframe containing the gender variable\n",
    "    output: the dataframe with a new variable 'Gender_S' contianing the standarized answer for gender\n",
    "    \n",
    "    \"\"\"\n",
    "    gender_dic = {}\n",
    "    for value in df['Gender'].unique():\n",
    "        gender_dic[value] = 'Other'\n",
    "    gender_dic['Man'] = 'Man'\n",
    "    gender_dic['Male'] = 'Man'\n",
    "    gender_dic['Woman'] = 'Woman'\n",
    "    gender_dic['Female'] = 'Woman'\n",
    "    gender_dic[np.nan] = 'Missing'\n",
    "    df['Gender_S'] = [gender_dic[x] for x in df['Gender']]"
   ]
  },
  {
   "cell_type": "code",
   "execution_count": 62,
   "metadata": {},
   "outputs": [],
   "source": [
    "def dict_to_graph(dict_, n=10):\n",
    "    \"\"\"\n",
    "    This function create a bar chart with the n-highest answer given for the question\n",
    "    \n",
    "    input: dict_ :dictionnary output by the function create_dic()\n",
    "    \n",
    "    \"\"\"\n",
    "\n",
    "    listy = [(dict_[x],x) for x in dict_.keys()]\n",
    "    listy = sorted(listy, reverse=True)\n",
    "    names = [name for pct, name in listy][:n]\n",
    "    pct = [pct for pct, name in listy][:n]\n",
    "    plt.bar(range(len(names)), pct, tick_label=names )\n",
    "    plt.xticks(rotation=90)\n",
    "    plt.ylabel('Percentage')\n",
    "    plt.show()"
   ]
  },
  {
   "cell_type": "code",
   "execution_count": 63,
   "metadata": {},
   "outputs": [],
   "source": [
    "def dict_to_df(dict_, year):\n",
    "    \"\"\"       \n",
    "    This function create a dataframe with the percentage of people giving each answer  for the question\n",
    "    \n",
    "    input:  dict_ :dictionnary output by the function create_dic()\n",
    "            year  : string used as label for the variable containing the percentage of people replying that answer \n",
    "    output: a dataframe with the different ansers as index and the percentage of people replying it\n",
    "    \"\"\"\n",
    " \n",
    "    listy = [(dict_[x], x) for x in dict_.keys()]\n",
    "    names = [name for pct, name in listy]\n",
    "    pct = [pct for pct, name in listy]\n",
    "    df_ = pd.DataFrame({' ':names, year:pct})\n",
    "    df_.set_index(' ', inplace=True)\n",
    "    return df_"
   ]
  },
  {
   "cell_type": "code",
   "execution_count": 64,
   "metadata": {},
   "outputs": [],
   "source": [
    "def compare_dict(list_of_dict, list_of_year, n=10):\n",
    "    \"\"\"\n",
    "    This function create a bar chart comparing the n-highest answer given for the question along the different year\n",
    "    \n",
    "    input:     list_of_dict :  list of dictionnary output by the function create_dic()\n",
    "        \n",
    "               list_of_year  : list of string used as label for the variable containing the percentage\n",
    "                               of people replying that answer \n",
    "                               \n",
    "    output: a dataframe with the different ansers as index and the percentage of people replying it\n",
    "    \n",
    "    \"\"\"    \n",
    "        \n",
    "    counter = 0\n",
    "    df = pd.DataFrame()\n",
    "    for dict_, year in zip(list_of_dict, list_of_year):\n",
    "        df_ = dict_to_df(dict_, year)\n",
    "        df = df_.join(df,how='outer')\n",
    "    df.sort_values([year], ascending=False, inplace=True)\n",
    "    df_short = df[:n]\n",
    "    for columns in df.columns.tolist():\n",
    "        plt.bar(range(counter, df_short.shape[0]*len(list_of_dict)+counter, len(list_of_dict) ), \n",
    "                df_short[columns], \n",
    "                label=columns )\n",
    "        counter += 1\n",
    "        \n",
    "    #adding a label in the middle of the different bars\n",
    "    \n",
    "    plt.bar(np.array(range(counter-1, df_short.shape[0]*len(list_of_dict)+counter-1, len(list_of_dict) ))-(counter-1)/2,\n",
    "            0, #no value are needed\n",
    "            tick_label=df_short.index )\n",
    "    plt.xticks(rotation=90)\n",
    "    plt.ylabel('Percentage')    \n",
    "    plt.legend()    \n",
    "    plt.show()\n",
    "    return(df)"
   ]
  },
  {
   "cell_type": "code",
   "execution_count": 65,
   "metadata": {},
   "outputs": [],
   "source": [
    "def filter_df(df, variable, string):\n",
    "    \"\"\"\n",
    "    This function filter a dataframe to find people that have answer at least a specific answer to a question\n",
    "    input : df:       name of the dataframe\n",
    "            variable: name of the variable where to look for the answer\n",
    "            string :  value of the answer to look for\n",
    "            \n",
    "    output: a dataframe contianing only the people where the specific answer has been found    \n",
    "    \n",
    "    \"\"\"\n",
    "    \n",
    "    filtering = []\n",
    "    for value in df[variable].fillna('none').tolist():\n",
    "        sety = set([charac.strip() for charac in value.split(';')])\n",
    "        filtering += [sety.issuperset(set([string]))]\n",
    "    return df[filtering]"
   ]
  },
  {
   "cell_type": "markdown",
   "metadata": {},
   "source": [
    "<a id='data' >\n",
    "    \n",
    "   </a>\n",
    "\n",
    "# Data preparation\n",
    "\n",
    "As for the different datasets used, the answers available were different (for example 'male' vs 'man,) a standardization of the the data across the different datasets is needed in order to compare easily the different years."
   ]
  },
  {
   "cell_type": "code",
   "execution_count": 66,
   "metadata": {},
   "outputs": [],
   "source": [
    "simplify_gender(df_2017)\n",
    "simplify_gender(df_2018)\n",
    "simplify_gender(df_2019)"
   ]
  },
  {
   "cell_type": "code",
   "execution_count": 67,
   "metadata": {},
   "outputs": [],
   "source": [
    "df_2019['Education'] = [education.split('(')[0] for education in df_2019['EdLevel'].fillna('I prefer not to answer')\\\n",
    "                        .str.replace(\"’s degree\",\"'s degree\")]\n",
    "df_2019['Education'] = df_2019['Education'].str.replace('Other doctoral degree','Doctoral degree')\n",
    "df_2018['Education'] = [education.split('(')[0] for education in df_2018['FormalEducation'].fillna('I prefer not to answer')\\\n",
    "                        .str.replace(\"’s degree\",\"'s degree\")]\n",
    "df_2018['Education'] = df_2018['Education'].str.replace('Other doctoral degree','Doctoral degree')\n",
    "df_2017['Education'] = [education.split('(')[0] for education in df_2017['FormalEducation']]\n",
    "df_2017['Education'] = df_2017['Education'].str.\\\n",
    "                        replace(\"Some college/university study without earning a bachelor's degree\",\n",
    "                                \"Some study without\\n earning a degree\" )\n",
    "df_2018['Education'] = df_2018['Education'].str.\\\n",
    "                        replace(\"Some college/university study without earning a degree\",\n",
    "                                \"Some study without\\n earning a degree\" )\n",
    "df_2019['Education'] = df_2019['Education'].str.\\\n",
    "                        replace(\"Some college/university study without earning a degree\",\n",
    "                                \"Some study without\\n earning a degree\" )"
   ]
  },
  {
   "cell_type": "code",
   "execution_count": 68,
   "metadata": {},
   "outputs": [],
   "source": [
    "df_2017['Employment'] = df_2017['EmploymentStatus']\n",
    "df_2017['LanguageWorkedWith'] = df_2017['HaveWorkedLanguage']\n",
    "df_2017['LanguageDesireNextYear'] = df_2017['WantWorkLanguage']"
   ]
  },
  {
   "cell_type": "markdown",
   "metadata": {},
   "source": [
    "<a id='ana' >\n",
    "    </a>\n",
    "\n",
    "# Analysis"
   ]
  },
  {
   "cell_type": "markdown",
   "metadata": {},
   "source": [
    "## Evolution of the number of women per men in the field"
   ]
  },
  {
   "cell_type": "code",
   "execution_count": 69,
   "metadata": {
    "scrolled": false
   },
   "outputs": [
    {
     "data": {
      "image/png": "[encoded data removed]",
      "text/plain": [
       "<matplotlib.figure.Figure at 0x7fe10b7b7ac8>"
      ]
     },
     "metadata": {
      "needs_background": "light"
     },
     "output_type": "display_data"
    },
    {
     "data": {
      "text/html": [
       "<div>\n",
       "<style scoped>\n",
       "    .dataframe tbody tr th:only-of-type {\n",
       "        vertical-align: middle;\n",
       "    }\n",
       "\n",
       "    .dataframe tbody tr th {\n",
       "        vertical-align: top;\n",
       "    }\n",
       "\n",
       "    .dataframe thead th {\n",
       "        text-align: right;\n",
       "    }\n",
       "</style>\n",
       "<table border=\"1\" class=\"dataframe\">\n",
       "  <thead>\n",
       "    <tr style=\"text-align: right;\">\n",
       "      <th></th>\n",
       "      <th>2017</th>\n",
       "      <th>2018</th>\n",
       "      <th>2019</th>\n",
       "    </tr>\n",
       "    <tr>\n",
       "      <th></th>\n",
       "      <th></th>\n",
       "      <th></th>\n",
       "      <th></th>\n",
       "    </tr>\n",
       "  </thead>\n",
       "  <tbody>\n",
       "    <tr>\n",
       "      <th>Man</th>\n",
       "      <td>0.614668</td>\n",
       "      <td>0.601467</td>\n",
       "      <td>0.876647</td>\n",
       "    </tr>\n",
       "    <tr>\n",
       "      <th>Missing</th>\n",
       "      <td>0.318046</td>\n",
       "      <td>0.347843</td>\n",
       "      <td>0.039119</td>\n",
       "    </tr>\n",
       "    <tr>\n",
       "      <th>Woman</th>\n",
       "      <td>0.050592</td>\n",
       "      <td>0.040716</td>\n",
       "      <td>0.071375</td>\n",
       "    </tr>\n",
       "    <tr>\n",
       "      <th>Other</th>\n",
       "      <td>0.016695</td>\n",
       "      <td>0.009974</td>\n",
       "      <td>0.012860</td>\n",
       "    </tr>\n",
       "  </tbody>\n",
       "</table>\n",
       "</div>"
      ],
      "text/plain": [
       "             2017      2018      2019\n",
       "                                     \n",
       "Man      0.614668  0.601467  0.876647\n",
       "Missing  0.318046  0.347843  0.039119\n",
       "Woman    0.050592  0.040716  0.071375\n",
       "Other    0.016695  0.009974  0.012860"
      ]
     },
     "execution_count": 69,
     "metadata": {},
     "output_type": "execute_result"
    }
   ],
   "source": [
    "list_of_dic = []\n",
    "for dataf in [df_2019, df_2018, df_2017]:\n",
    "    list_of_dic += [create_dic(dataf, 'Gender_S')]\n",
    "gender = compare_dict(list_of_dic, ['2019', '2018', '2017'])\n",
    "gender"
   ]
  },
  {
   "cell_type": "markdown",
   "metadata": {},
   "source": [
    "The major change is in fact the reduction of people not wanting to tell their gender. <br> As the the percentage of women is following the same trend as the percentage of men, we can calculate the ratio men/women to see if there are been any change in the population regarding the gender"
   ]
  },
  {
   "cell_type": "code",
   "execution_count": 70,
   "metadata": {},
   "outputs": [
    {
     "data": {
      "text/plain": [
       "2017    12.149615\n",
       "2018    14.772174\n",
       "2019    12.282314\n",
       "Name: ratio Man/Woman, dtype: float64"
      ]
     },
     "execution_count": 70,
     "metadata": {},
     "output_type": "execute_result"
    }
   ],
   "source": [
    "gt = gender.transpose()\n",
    "gt['ratio Man/Woman'] = gt.Man/gt.Woman\n",
    "gt['ratio Man/Woman']"
   ]
  },
  {
   "cell_type": "markdown",
   "metadata": {},
   "source": [
    "We can see that the ratio men/women has sligthly increased in 2018 for falling down in 2019 to the same value as it was in 2019. It doesn't seem that the #METOO movement had any  impact in the field"
   ]
  },
  {
   "cell_type": "markdown",
   "metadata": {},
   "source": [
    "## Evolution of the qualifications"
   ]
  },
  {
   "cell_type": "code",
   "execution_count": 71,
   "metadata": {
    "scrolled": false
   },
   "outputs": [
    {
     "data": {
      "image/png": "[encoded data removed]",
      "text/plain": [
       "<matplotlib.figure.Figure at 0x7fe10cb3cb00>"
      ]
     },
     "metadata": {
      "needs_background": "light"
     },
     "output_type": "display_data"
    },
    {
     "data": {
      "text/html": [
       "<div>\n",
       "<style scoped>\n",
       "    .dataframe tbody tr th:only-of-type {\n",
       "        vertical-align: middle;\n",
       "    }\n",
       "\n",
       "    .dataframe tbody tr th {\n",
       "        vertical-align: top;\n",
       "    }\n",
       "\n",
       "    .dataframe thead th {\n",
       "        text-align: right;\n",
       "    }\n",
       "</style>\n",
       "<table border=\"1\" class=\"dataframe\">\n",
       "  <thead>\n",
       "    <tr style=\"text-align: right;\">\n",
       "      <th></th>\n",
       "      <th>2017</th>\n",
       "      <th>2018</th>\n",
       "      <th>2019</th>\n",
       "    </tr>\n",
       "    <tr>\n",
       "      <th></th>\n",
       "      <th></th>\n",
       "      <th></th>\n",
       "      <th></th>\n",
       "    </tr>\n",
       "  </thead>\n",
       "  <tbody>\n",
       "    <tr>\n",
       "      <th>Bachelor's degree</th>\n",
       "      <td>0.420474</td>\n",
       "      <td>0.441647</td>\n",
       "      <td>0.440287</td>\n",
       "    </tr>\n",
       "    <tr>\n",
       "      <th>Master's degree</th>\n",
       "      <td>0.216785</td>\n",
       "      <td>0.216438</td>\n",
       "      <td>0.220166</td>\n",
       "    </tr>\n",
       "    <tr>\n",
       "      <th>Some study without\\n earning a degree</th>\n",
       "      <td>0.158176</td>\n",
       "      <td>0.118456</td>\n",
       "      <td>0.118155</td>\n",
       "    </tr>\n",
       "    <tr>\n",
       "      <th>Secondary school</th>\n",
       "      <td>0.114960</td>\n",
       "      <td>0.090547</td>\n",
       "      <td>0.097229</td>\n",
       "    </tr>\n",
       "    <tr>\n",
       "      <th>Doctoral degree</th>\n",
       "      <td>0.025451</td>\n",
       "      <td>0.022396</td>\n",
       "      <td>0.027362</td>\n",
       "    </tr>\n",
       "    <tr>\n",
       "      <th>I prefer not to answer</th>\n",
       "      <td>0.021579</td>\n",
       "      <td>0.042001</td>\n",
       "      <td>0.028048</td>\n",
       "    </tr>\n",
       "    <tr>\n",
       "      <th>Primary/elementary school</th>\n",
       "      <td>0.020373</td>\n",
       "      <td>0.016752</td>\n",
       "      <td>0.015999</td>\n",
       "    </tr>\n",
       "    <tr>\n",
       "      <th>Professional degree</th>\n",
       "      <td>0.013913</td>\n",
       "      <td>0.014638</td>\n",
       "      <td>0.013478</td>\n",
       "    </tr>\n",
       "    <tr>\n",
       "      <th>I never completed any formal education</th>\n",
       "      <td>0.008289</td>\n",
       "      <td>0.007081</td>\n",
       "      <td>0.006222</td>\n",
       "    </tr>\n",
       "    <tr>\n",
       "      <th>Associate degree</th>\n",
       "      <td>NaN</td>\n",
       "      <td>0.030044</td>\n",
       "      <td>0.033055</td>\n",
       "    </tr>\n",
       "  </tbody>\n",
       "</table>\n",
       "</div>"
      ],
      "text/plain": [
       "                                            2017      2018      2019\n",
       "                                                                    \n",
       "Bachelor's degree                       0.420474  0.441647  0.440287\n",
       "Master's degree                         0.216785  0.216438  0.220166\n",
       "Some study without\\n earning a degree   0.158176  0.118456  0.118155\n",
       "Secondary school                        0.114960  0.090547  0.097229\n",
       "Doctoral degree                         0.025451  0.022396  0.027362\n",
       "I prefer not to answer                  0.021579  0.042001  0.028048\n",
       "Primary/elementary school               0.020373  0.016752  0.015999\n",
       "Professional degree                     0.013913  0.014638  0.013478\n",
       "I never completed any formal education  0.008289  0.007081  0.006222\n",
       "Associate degree                             NaN  0.030044  0.033055"
      ]
     },
     "execution_count": 71,
     "metadata": {},
     "output_type": "execute_result"
    }
   ],
   "source": [
    "list_of_dic = []\n",
    "for dataf in [df_2019, df_2018, df_2017]:\n",
    "    list_of_dic += [create_dic(dataf, 'Education')]\n",
    "educ = compare_dict(list_of_dic, ['2019', '2018', '2017'])\n",
    "educ"
   ]
  },
  {
   "cell_type": "markdown",
   "metadata": {},
   "source": [
    "The three main categories evolving from 2017 to 2019 are:\n",
    "  * 'Some study without earning a degree' that decreased by 4% between 2017 and 2019\n",
    "  * 'Bachelor's degree' that increase by 2% between 2017 and 2018\n",
    "  * 'Associate degree' that wasn't available in the survey before 2018 and scores 3% in 2018 and 2019<br>\n",
    "  \n",
    "These changes are really not important and most of them could be due to the introduction of a new possible answer"
   ]
  },
  {
   "cell_type": "markdown",
   "metadata": {},
   "source": [
    "## Evolution of  the popularity of the different languages"
   ]
  },
  {
   "cell_type": "code",
   "execution_count": 72,
   "metadata": {},
   "outputs": [
    {
     "data": {
      "image/png": "[encoded data removed]",
      "text/plain": [
       "<matplotlib.figure.Figure at 0x7fe0f28bddd8>"
      ]
     },
     "metadata": {
      "needs_background": "light"
     },
     "output_type": "display_data"
    }
   ],
   "source": [
    "list_of_dic = []\n",
    "for dataf in [df_2019, df_2018, df_2017]:\n",
    "    list_of_dic += [create_dic(dataf, 'LanguageWorkedWith')]\n",
    "language = compare_dict(list_of_dic, ['2019', '2018', '2017'])"
   ]
  },
  {
   "cell_type": "markdown",
   "metadata": {},
   "source": [
    "All languages seem more popular with time. Quite surprisingly, 28% of the respondants seem to have not worked with any languages in 2017. This number falls down to 1.5% in 2019. this couldeither reflect an increase in populatity in coding but it could also be due to the strategy changes in the survey. Let see what are the trends if we remove the non-coding population"
   ]
  },
  {
   "cell_type": "code",
   "execution_count": 73,
   "metadata": {},
   "outputs": [
    {
     "data": {
      "image/png": "[encoded data removed]",
      "text/plain": [
       "<matplotlib.figure.Figure at 0x7fe0ff5744e0>"
      ]
     },
     "metadata": {
      "needs_background": "light"
     },
     "output_type": "display_data"
    }
   ],
   "source": [
    "list_of_dic = []\n",
    "for dataf in [df_2019, df_2018, df_2017]:\n",
    "    data_filled = dataf.fillna('none')\n",
    "    data_selected = data_filled[data_filled.LanguageWorkedWith !='none']\n",
    "    list_of_dic += [create_dic(data_selected, 'LanguageWorkedWith')]\n",
    "language_no_missing = compare_dict(list_of_dic, ['2019', '2018', '2017'])"
   ]
  },
  {
   "cell_type": "markdown",
   "metadata": {},
   "source": [
    "Among the top 10 languages used, only the number of users of Python and TypeScript have increased each year. The language people work with may not really reflect their choice as it may be due to working environment contraint; better looking at which language people are hoping to work with"
   ]
  },
  {
   "cell_type": "code",
   "execution_count": 74,
   "metadata": {},
   "outputs": [
    {
     "data": {
      "image/png": "[encoded data removed]",
      "text/plain": [
       "<matplotlib.figure.Figure at 0x7fe0fe407da0>"
      ]
     },
     "metadata": {
      "needs_background": "light"
     },
     "output_type": "display_data"
    }
   ],
   "source": [
    "list_of_dic = []\n",
    "for dataf in [df_2019, df_2018, df_2017]:\n",
    "    data_filled = dataf.fillna('none')\n",
    "    data_selected = data_filled[data_filled.LanguageDesireNextYear !='none']\n",
    "    list_of_dic += [create_dic(data_selected, 'LanguageDesireNextYear')]\n",
    "next_language = compare_dict(list_of_dic, ['2019', '2018', '2017'])"
   ]
  },
  {
   "cell_type": "markdown",
   "metadata": {},
   "source": [
    "Looking at the top 10 languages people want to work with give a very similar picture with the addition of JavaScript and SQL to the list of language with increased popularity"
   ]
  },
  {
   "cell_type": "markdown",
   "metadata": {},
   "source": [
    "# Where is R?"
   ]
  },
  {
   "cell_type": "markdown",
   "metadata": {},
   "source": [
    "One thing that I was expecting to see is the famous war between Python and R but R (16th) is far behind Python (2nd). Could it be that the R population is just not very present on stackoverflow? how this subset of the population differs from the Python population ?"
   ]
  },
  {
   "cell_type": "code",
   "execution_count": 75,
   "metadata": {},
   "outputs": [],
   "source": [
    "df_P_2017 = filter_df(df_2017, 'LanguageWorkedWith', 'Python')\n",
    "df_R_2017 = filter_df(df_2017, 'LanguageWorkedWith', 'R')\n",
    "df_P_2018 = filter_df(df_2018, 'LanguageWorkedWith', 'Python')\n",
    "df_R_2018 = filter_df(df_2018, 'LanguageWorkedWith', 'R')\n",
    "df_P_2019 = filter_df(df_2019, 'LanguageWorkedWith', 'Python')\n",
    "df_R_2019 = filter_df(df_2019, 'LanguageWorkedWith', 'R')"
   ]
  },
  {
   "cell_type": "code",
   "execution_count": 76,
   "metadata": {
    "scrolled": false
   },
   "outputs": [
    {
     "name": "stdout",
     "output_type": "stream",
     "text": [
      "\tDesired language for people working with R\n"
     ]
    },
    {
     "data": {
      "image/png": "[encoded data removed]",
      "text/plain": [
       "<matplotlib.figure.Figure at 0x7fe10ccfdef0>"
      ]
     },
     "metadata": {
      "needs_background": "light"
     },
     "output_type": "display_data"
    },
    {
     "name": "stdout",
     "output_type": "stream",
     "text": [
      "  Desired language for people working with Python\n"
     ]
    },
    {
     "data": {
      "image/png": "[encoded data removed]",
      "text/plain": [
       "<matplotlib.figure.Figure at 0x7fe10ed05710>"
      ]
     },
     "metadata": {
      "needs_background": "light"
     },
     "output_type": "display_data"
    }
   ],
   "source": [
    "print('\\tDesired language for people working with R')\n",
    "R_dic = compare_dict([create_dic(df_R_2019, 'LanguageDesireNextYear'),\n",
    "                      create_dic(df_R_2018, 'LanguageDesireNextYear'),\n",
    "                      create_dic(df_R_2017, 'LanguageDesireNextYear')],\n",
    "                     ['2019', '2018', '2017'],n=15)\n",
    "\n",
    "print('  Desired language for people working with Python')\n",
    "\n",
    "P_dict = compare_dict([create_dic(df_P_2019, 'LanguageDesireNextYear'),\n",
    "                       create_dic(df_P_2018, 'LanguageDesireNextYear'),\n",
    "                       create_dic(df_P_2017, 'LanguageDesireNextYear')], \n",
    "                      ['2019','2018','2017'],n=15)\n"
   ]
  },
  {
   "cell_type": "markdown",
   "metadata": {},
   "source": [
    "While the number of people wanting to work with python in the future increase year-on-year to reach 70% regardless if they come from a Python or an R background, the proportion of people wanting to work with R is quite steady around 50% for the people from an R background and around 10 % for people from a python background.<br>\n",
    "As R doesn't seem to attract a lot of people where do they come from? could it be their education?"
   ]
  },
  {
   "cell_type": "code",
   "execution_count": 77,
   "metadata": {},
   "outputs": [
    {
     "data": {
      "image/png": "[encoded data removed]",
      "text/plain": [
       "<matplotlib.figure.Figure at 0x7fe10b3f1ba8>"
      ]
     },
     "metadata": {
      "needs_background": "light"
     },
     "output_type": "display_data"
    }
   ],
   "source": [
    "educ_R_vs_P = compare_dict([create_dic(df_P_2019, 'Education'),\n",
    "                            create_dic(df_R_2019, 'Education')], \n",
    "                           ['Python', 'R'])"
   ]
  },
  {
   "cell_type": "markdown",
   "metadata": {},
   "source": [
    "We can see that people with a higher degree (Master or PhD) are over-represented in the population using R compare to the population using Python suggesting that the education may play a role in the first choice of the language to code with"
   ]
  }
 ],
 "metadata": {
  "kernelspec": {
   "display_name": "Python 3",
   "language": "python",
   "name": "python3"
  },
  "language_info": {
   "codemirror_mode": {
    "name": "ipython",
    "version": 3
   },
   "file_extension": ".py",
   "mimetype": "text/x-python",
   "name": "python",
   "nbconvert_exporter": "python",
   "pygments_lexer": "ipython3",
   "version": "3.6.3"
  }
 },
 "nbformat": 4,
 "nbformat_minor": 2
}
